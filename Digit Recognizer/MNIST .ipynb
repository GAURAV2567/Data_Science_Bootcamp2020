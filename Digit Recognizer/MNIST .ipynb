{
 "cells": [
  {
   "cell_type": "markdown",
   "metadata": {},
   "source": [
    "# Importing relevent libraries"
   ]
  },
  {
   "cell_type": "code",
   "execution_count": 1,
   "metadata": {},
   "outputs": [],
   "source": [
    "import numpy as np\n",
    "import tensorflow as tf\n",
    "#We need the tensorflow-datasets module, therefore, if you haven't please install the package using\n",
    "# pip install tensorflow-datasets \n",
    "# or\n",
    "# conda install tensorflow-datasets\n",
    "\n",
    "import tensorflow_datasets as tfds"
   ]
  },
  {
   "cell_type": "markdown",
   "metadata": {},
   "source": [
    "# Data"
   ]
  },
  {
   "cell_type": "code",
   "execution_count": 2,
   "metadata": {},
   "outputs": [],
   "source": [
    "mnist_dataset, mnist_info=tfds.load(name='mnist',with_info=True,as_supervised=True)"
   ]
  },
  {
   "cell_type": "markdown",
   "metadata": {},
   "source": [
    "# Explore the data"
   ]
  },
  {
   "cell_type": "code",
   "execution_count": 3,
   "metadata": {},
   "outputs": [
    {
     "data": {
      "text/plain": [
       "{'test': <PrefetchDataset shapes: ((28, 28, 1), ()), types: (tf.uint8, tf.int64)>,\n",
       " 'train': <PrefetchDataset shapes: ((28, 28, 1), ()), types: (tf.uint8, tf.int64)>}"
      ]
     },
     "execution_count": 3,
     "metadata": {},
     "output_type": "execute_result"
    }
   ],
   "source": [
    "mnist_dataset"
   ]
  },
  {
   "cell_type": "markdown",
   "metadata": {},
   "source": [
    "# Split"
   ]
  },
  {
   "cell_type": "code",
   "execution_count": 4,
   "metadata": {},
   "outputs": [],
   "source": [
    "mnist_train,mnist_test=mnist_dataset['train'],mnist_dataset['test']"
   ]
  },
  {
   "cell_type": "code",
   "execution_count": 5,
   "metadata": {},
   "outputs": [],
   "source": [
    "#Further splitting to get Validation Set"
   ]
  },
  {
   "cell_type": "code",
   "execution_count": 6,
   "metadata": {},
   "outputs": [],
   "source": [
    "num_validation_samples=0.1*mnist_info.splits['train'].num_examples     #Using mnist_info to split training set\n",
    "num_validation_samples=tf.cast(num_validation_samples, tf.int64)      #tf.cast convert the variable into int64 data type"
   ]
  },
  {
   "cell_type": "code",
   "execution_count": 7,
   "metadata": {},
   "outputs": [],
   "source": [
    "num_test_samples=mnist_info.splits['test'].num_examples\n",
    "prev=num_test_samples\n",
    "num_test_samples=tf.cast(num_test_samples, tf.int64)          #convert from int to numpy int64"
   ]
  },
  {
   "cell_type": "raw",
   "metadata": {},
   "source": [
    "#Explanation"
   ]
  },
  {
   "cell_type": "code",
   "execution_count": 8,
   "metadata": {},
   "outputs": [
    {
     "data": {
      "text/plain": [
       "10000"
      ]
     },
     "execution_count": 8,
     "metadata": {},
     "output_type": "execute_result"
    }
   ],
   "source": [
    "prev"
   ]
  },
  {
   "cell_type": "code",
   "execution_count": 9,
   "metadata": {},
   "outputs": [
    {
     "data": {
      "text/plain": [
       "<tf.Tensor: shape=(), dtype=int64, numpy=10000>"
      ]
     },
     "execution_count": 9,
     "metadata": {},
     "output_type": "execute_result"
    }
   ],
   "source": [
    "num_test_samples"
   ]
  },
  {
   "cell_type": "markdown",
   "metadata": {},
   "source": [
    "# Preprocessing"
   ]
  },
  {
   "cell_type": "markdown",
   "metadata": {},
   "source": [
    "## Feature Scaling"
   ]
  },
  {
   "cell_type": "code",
   "execution_count": 10,
   "metadata": {},
   "outputs": [],
   "source": [
    "#we would like to scale\\transform\\resize the data in such a way that their input hace equal effect on weights(coefficients)\n",
    "# or we can say it is to make the result more numerically stable\n",
    "# in this case we will simply prefer to have inputs between 0 and 1\n",
    "def scale(image, label):\n",
    "    # we make sure the value is a float\n",
    "    image = tf.cast(image, tf.float32)\n",
    "    # since the possible values for the inputs are 0 to 255 (256 different shades of grey)\n",
    "    # if we divide each element by 255, we would get the desired result -> all elements will be between 0 and 1 \n",
    "    image /= 255.\n",
    "\n",
    "    return image, label\n"
   ]
  },
  {
   "cell_type": "code",
   "execution_count": 11,
   "metadata": {},
   "outputs": [],
   "source": [
    "scaled_train_and_validation_data=mnist_train.map(scale)  #dataset.map(function) applies custom transformation to a dataset. \n",
    "                                                         #Take function as a input which define transformation"
   ]
  },
  {
   "cell_type": "code",
   "execution_count": 12,
   "metadata": {},
   "outputs": [
    {
     "data": {
      "text/plain": [
       "<MapDataset shapes: ((28, 28, 1), ()), types: (tf.float32, tf.int64)>"
      ]
     },
     "execution_count": 12,
     "metadata": {},
     "output_type": "execute_result"
    }
   ],
   "source": [
    "scaled_train_and_validation_data"
   ]
  },
  {
   "cell_type": "code",
   "execution_count": 13,
   "metadata": {},
   "outputs": [],
   "source": [
    "#Scaling Test dataset so it has the same scale as train and validation data\n",
    "test_data=mnist_test.map(scale)"
   ]
  },
  {
   "cell_type": "code",
   "execution_count": 14,
   "metadata": {},
   "outputs": [
    {
     "data": {
      "text/plain": [
       "<MapDataset shapes: ((28, 28, 1), ()), types: (tf.float32, tf.int64)>"
      ]
     },
     "execution_count": 14,
     "metadata": {},
     "output_type": "execute_result"
    }
   ],
   "source": [
    "test_data"
   ]
  },
  {
   "cell_type": "markdown",
   "metadata": {},
   "source": [
    "## Shuffle and Batch"
   ]
  },
  {
   "cell_type": "code",
   "execution_count": 15,
   "metadata": {},
   "outputs": [],
   "source": [
    "#SHUFFLE\n",
    "# this BUFFER_SIZE parameter is here for cases when we're dealing with enormous datasets\n",
    "# then we can't shuffle the whole dataset in one go because we can't fit it all in memory\n",
    "# so instead TF only stores BUFFER_SIZE samples in memory at a time and shuffles them\n",
    "# if BUFFER_SIZE=1 => no shuffling will actually happen\n",
    "# if BUFFER_SIZE >= num samples => shuffling is uniform\n",
    "# BUFFER_SIZE in between - a computational optimization to approximate uniform shuffling\n",
    "\n",
    "BUFFER_SIZE = 10000\n",
    "\n",
    "shuffled_train_and_validation_data = scaled_train_and_validation_data.shuffle(BUFFER_SIZE)\n",
    "\n",
    "validation_data = shuffled_train_and_validation_data.take(num_validation_samples) #.take() method will take that same number \n",
    "                                                                                  #of samples as in num_validation_samples\n",
    "train_data=shuffled_train_and_validation_data.skip(num_validation_samples)    #Skip the no. of samples in \n",
    "                                                                              #num_validation_samples"
   ]
  },
  {
   "cell_type": "code",
   "execution_count": 16,
   "metadata": {},
   "outputs": [],
   "source": [
    "#Batch\n",
    "BATCH_SIZE = 250                          #one batch include 100/60000 observations\n",
    "\n",
    "train_data = train_data.batch(BATCH_SIZE)\n",
    "\n",
    "validation_data = validation_data.batch(num_validation_samples)  #No Batching done for validation set\n",
    "\n",
    "test_data = test_data.batch(num_test_samples)                    #No batching for test set also\n",
    "\n",
    "\n",
    "#To make the validation_data to have same format and feature as train and test data\n",
    "# because as_supervized=True, we've got a 2-tuple structure\n",
    "validation_inputs, validation_targets = next(iter(validation_data))"
   ]
  },
  {
   "cell_type": "markdown",
   "metadata": {},
   "source": [
    "# MODEL"
   ]
  },
  {
   "cell_type": "markdown",
   "metadata": {},
   "source": [
    "## Outline the Model"
   ]
  },
  {
   "cell_type": "code",
   "execution_count": 17,
   "metadata": {},
   "outputs": [],
   "source": [
    "input_size=784\n",
    "output_size=10\n",
    "hidden_layer_size=200      #U can choose the hidden layer of different sizes\n",
    "model = tf.keras.Sequential([    #Sequetial used to stack layers\n",
    "                                 #Flatten used to convert tensor into vector   \n",
    "            tf.keras.layers.Flatten(input_shape=(28, 28, 1)),\n",
    "                             \n",
    "                             #Dense used to build each layer \n",
    "                             #It calculates dot product and here we apply activation function                             \n",
    "            tf.keras.layers.Dense(hidden_layer_size,activation='relu'),  #Layer 1\n",
    "            tf.keras.layers.Dense(hidden_layer_size,activation='relu'),  #Layer 2\n",
    "            tf.keras.layers.Dense(hidden_layer_size,activation='relu'),  #Layer 3\n",
    "    \n",
    "    \n",
    "            tf.keras.layers.Dense(output_size,activation='softmax')  #Output layer with probabilities(softmax)\n",
    "])"
   ]
  },
  {
   "cell_type": "markdown",
   "metadata": {},
   "source": [
    "# Objective Function"
   ]
  },
  {
   "cell_type": "markdown",
   "metadata": {},
   "source": [
    "## Choose the Optimizer and the Loss Function"
   ]
  },
  {
   "cell_type": "code",
   "execution_count": 18,
   "metadata": {},
   "outputs": [],
   "source": [
    "#custom_optimizer = tf.keras.optimizers.Adam(learning_rate=0.0001)\n",
    "\n",
    "model.compile(optimizer='adam', loss='sparse_categorical_crossentropy', metrics=['accuracy'])"
   ]
  },
  {
   "cell_type": "markdown",
   "metadata": {},
   "source": [
    "## Training"
   ]
  },
  {
   "cell_type": "code",
   "execution_count": 20,
   "metadata": {},
   "outputs": [],
   "source": [
    "%load_ext tensorboard"
   ]
  },
  {
   "cell_type": "code",
   "execution_count": 21,
   "metadata": {},
   "outputs": [],
   "source": [
    "import datetime"
   ]
  },
  {
   "cell_type": "code",
   "execution_count": 22,
   "metadata": {},
   "outputs": [],
   "source": [
    "log_dir = \"logs/fit/\" + datetime.datetime.now().strftime(\"%Y%m%d-%H%M%S\")\n",
    "tensorboard_callback = tf.keras.callbacks.TensorBoard(log_dir=log_dir, histogram_freq=1)"
   ]
  },
  {
   "cell_type": "code",
   "execution_count": 23,
   "metadata": {},
   "outputs": [
    {
     "name": "stdout",
     "output_type": "stream",
     "text": [
      "Epoch 1/50\n",
      "WARNING:tensorflow:From C:\\Users\\kggau\\.conda\\envs\\tf\\lib\\site-packages\\tensorflow\\python\\ops\\summary_ops_v2.py:1277: stop (from tensorflow.python.eager.profiler) is deprecated and will be removed after 2020-07-01.\n",
      "Instructions for updating:\n",
      "use `tf.profiler.experimental.stop` instead.\n"
     ]
    },
    {
     "name": "stderr",
     "output_type": "stream",
     "text": [
      "WARNING:tensorflow:From C:\\Users\\kggau\\.conda\\envs\\tf\\lib\\site-packages\\tensorflow\\python\\ops\\summary_ops_v2.py:1277: stop (from tensorflow.python.eager.profiler) is deprecated and will be removed after 2020-07-01.\n",
      "Instructions for updating:\n",
      "use `tf.profiler.experimental.stop` instead.\n"
     ]
    },
    {
     "name": "stdout",
     "output_type": "stream",
     "text": [
      "WARNING:tensorflow:Callbacks method `on_train_batch_end` is slow compared to the batch time (batch time: 0.0180s vs `on_train_batch_end` time: 0.1043s). Check your callbacks.\n"
     ]
    },
    {
     "name": "stderr",
     "output_type": "stream",
     "text": [
      "WARNING:tensorflow:Callbacks method `on_train_batch_end` is slow compared to the batch time (batch time: 0.0180s vs `on_train_batch_end` time: 0.1043s). Check your callbacks.\n"
     ]
    },
    {
     "name": "stdout",
     "output_type": "stream",
     "text": [
      "216/216 - 3s - loss: 0.3495 - accuracy: 0.9000 - val_loss: 0.1444 - val_accuracy: 0.9573\n",
      "Epoch 2/50\n",
      "216/216 - 2s - loss: 0.1271 - accuracy: 0.9619 - val_loss: 0.1033 - val_accuracy: 0.9690\n",
      "Epoch 3/50\n",
      "216/216 - 2s - loss: 0.0826 - accuracy: 0.9744 - val_loss: 0.0740 - val_accuracy: 0.9782\n",
      "Epoch 4/50\n",
      "216/216 - 2s - loss: 0.0614 - accuracy: 0.9809 - val_loss: 0.0635 - val_accuracy: 0.9792\n",
      "Epoch 5/50\n",
      "216/216 - 2s - loss: 0.0464 - accuracy: 0.9860 - val_loss: 0.0465 - val_accuracy: 0.9853\n",
      "Epoch 6/50\n",
      "216/216 - 2s - loss: 0.0371 - accuracy: 0.9882 - val_loss: 0.0487 - val_accuracy: 0.9853\n",
      "Epoch 7/50\n",
      "216/216 - 2s - loss: 0.0303 - accuracy: 0.9902 - val_loss: 0.0513 - val_accuracy: 0.9838\n",
      "Epoch 8/50\n",
      "216/216 - 2s - loss: 0.0267 - accuracy: 0.9914 - val_loss: 0.0332 - val_accuracy: 0.9895\n",
      "Epoch 9/50\n",
      "216/216 - 2s - loss: 0.0203 - accuracy: 0.9935 - val_loss: 0.0252 - val_accuracy: 0.9917\n",
      "Epoch 10/50\n",
      "216/216 - 2s - loss: 0.0172 - accuracy: 0.9947 - val_loss: 0.0256 - val_accuracy: 0.9915\n",
      "Epoch 11/50\n",
      "216/216 - 2s - loss: 0.0154 - accuracy: 0.9952 - val_loss: 0.0195 - val_accuracy: 0.9947\n",
      "Epoch 12/50\n",
      "216/216 - 2s - loss: 0.0139 - accuracy: 0.9956 - val_loss: 0.0320 - val_accuracy: 0.9903\n",
      "Epoch 13/50\n",
      "216/216 - 2s - loss: 0.0168 - accuracy: 0.9944 - val_loss: 0.0122 - val_accuracy: 0.9960\n",
      "Epoch 14/50\n",
      "216/216 - 2s - loss: 0.0125 - accuracy: 0.9958 - val_loss: 0.0156 - val_accuracy: 0.9952\n",
      "Epoch 15/50\n",
      "216/216 - 2s - loss: 0.0140 - accuracy: 0.9953 - val_loss: 0.0136 - val_accuracy: 0.9965\n",
      "Epoch 16/50\n",
      "216/216 - 2s - loss: 0.0096 - accuracy: 0.9965 - val_loss: 0.0153 - val_accuracy: 0.9950\n",
      "Epoch 17/50\n",
      "216/216 - 2s - loss: 0.0119 - accuracy: 0.9959 - val_loss: 0.0128 - val_accuracy: 0.9950\n",
      "Epoch 18/50\n",
      "216/216 - 2s - loss: 0.0099 - accuracy: 0.9966 - val_loss: 0.0067 - val_accuracy: 0.9968\n",
      "Epoch 19/50\n",
      "216/216 - 2s - loss: 0.0095 - accuracy: 0.9964 - val_loss: 0.0136 - val_accuracy: 0.9947\n",
      "Epoch 20/50\n",
      "216/216 - 2s - loss: 0.0086 - accuracy: 0.9971 - val_loss: 0.0141 - val_accuracy: 0.9957\n",
      "Epoch 21/50\n",
      "216/216 - 2s - loss: 0.0149 - accuracy: 0.9948 - val_loss: 0.0288 - val_accuracy: 0.9922\n",
      "Epoch 22/50\n",
      "216/216 - 2s - loss: 0.0066 - accuracy: 0.9979 - val_loss: 0.0047 - val_accuracy: 0.9977\n",
      "Epoch 23/50\n",
      "216/216 - 2s - loss: 0.0038 - accuracy: 0.9989 - val_loss: 0.0026 - val_accuracy: 0.9993\n",
      "Epoch 24/50\n",
      "216/216 - 2s - loss: 0.0040 - accuracy: 0.9987 - val_loss: 0.0028 - val_accuracy: 0.9990\n",
      "Epoch 25/50\n",
      "216/216 - 2s - loss: 0.0094 - accuracy: 0.9968 - val_loss: 0.0122 - val_accuracy: 0.9963\n",
      "Epoch 26/50\n",
      "216/216 - 2s - loss: 0.0073 - accuracy: 0.9977 - val_loss: 0.0064 - val_accuracy: 0.9978\n",
      "Epoch 27/50\n",
      "216/216 - 2s - loss: 0.0093 - accuracy: 0.9970 - val_loss: 0.0161 - val_accuracy: 0.9945\n",
      "Epoch 28/50\n",
      "216/216 - 2s - loss: 0.0086 - accuracy: 0.9970 - val_loss: 0.0096 - val_accuracy: 0.9963\n",
      "Epoch 29/50\n",
      "216/216 - 2s - loss: 0.0061 - accuracy: 0.9981 - val_loss: 0.0082 - val_accuracy: 0.9970\n",
      "Epoch 30/50\n",
      "216/216 - 2s - loss: 0.0083 - accuracy: 0.9974 - val_loss: 0.0284 - val_accuracy: 0.9917\n",
      "Epoch 31/50\n",
      "216/216 - 2s - loss: 0.0085 - accuracy: 0.9973 - val_loss: 0.0085 - val_accuracy: 0.9973\n",
      "Epoch 32/50\n",
      "216/216 - 2s - loss: 0.0052 - accuracy: 0.9984 - val_loss: 0.0037 - val_accuracy: 0.9992\n",
      "Epoch 33/50\n",
      "216/216 - 2s - loss: 0.0042 - accuracy: 0.9988 - val_loss: 0.0059 - val_accuracy: 0.9980\n",
      "Epoch 34/50\n",
      "216/216 - 2s - loss: 0.0036 - accuracy: 0.9987 - val_loss: 0.0089 - val_accuracy: 0.9968\n",
      "Epoch 35/50\n",
      "216/216 - 2s - loss: 0.0102 - accuracy: 0.9968 - val_loss: 0.0071 - val_accuracy: 0.9975\n",
      "Epoch 36/50\n",
      "216/216 - 2s - loss: 0.0065 - accuracy: 0.9979 - val_loss: 0.0065 - val_accuracy: 0.9967\n",
      "Epoch 37/50\n",
      "216/216 - 2s - loss: 0.0080 - accuracy: 0.9976 - val_loss: 0.0101 - val_accuracy: 0.9968\n",
      "Epoch 38/50\n",
      "216/216 - 2s - loss: 0.0033 - accuracy: 0.9990 - val_loss: 0.0044 - val_accuracy: 0.9988\n",
      "Epoch 39/50\n",
      "216/216 - 2s - loss: 0.0024 - accuracy: 0.9993 - val_loss: 0.0042 - val_accuracy: 0.9988\n",
      "Epoch 40/50\n",
      "216/216 - 2s - loss: 0.0032 - accuracy: 0.9993 - val_loss: 0.0014 - val_accuracy: 0.9995\n",
      "Epoch 41/50\n",
      "216/216 - 2s - loss: 0.0046 - accuracy: 0.9986 - val_loss: 0.0254 - val_accuracy: 0.9932\n",
      "Epoch 42/50\n",
      "216/216 - 2s - loss: 0.0094 - accuracy: 0.9969 - val_loss: 0.0091 - val_accuracy: 0.9970\n",
      "Epoch 43/50\n",
      "216/216 - 2s - loss: 0.0055 - accuracy: 0.9982 - val_loss: 0.0058 - val_accuracy: 0.9985\n",
      "Epoch 44/50\n",
      "216/216 - 2s - loss: 0.0034 - accuracy: 0.9989 - val_loss: 0.0035 - val_accuracy: 0.9992\n",
      "Epoch 45/50\n",
      "216/216 - 2s - loss: 0.0016 - accuracy: 0.9995 - val_loss: 0.0016 - val_accuracy: 0.9993\n",
      "Epoch 46/50\n",
      "216/216 - 2s - loss: 0.0047 - accuracy: 0.9986 - val_loss: 0.0061 - val_accuracy: 0.9980\n",
      "Epoch 47/50\n",
      "216/216 - 2s - loss: 0.0102 - accuracy: 0.9969 - val_loss: 0.0154 - val_accuracy: 0.9953\n",
      "Epoch 48/50\n",
      "216/216 - 2s - loss: 0.0054 - accuracy: 0.9984 - val_loss: 0.0060 - val_accuracy: 0.9978\n",
      "Epoch 49/50\n",
      "216/216 - 2s - loss: 0.0031 - accuracy: 0.9988 - val_loss: 0.0015 - val_accuracy: 0.9995\n",
      "Epoch 50/50\n",
      "216/216 - 2s - loss: 0.0034 - accuracy: 0.9988 - val_loss: 0.0050 - val_accuracy: 0.9987\n"
     ]
    }
   ],
   "source": [
    "NUM_EPOCHS = 50\n",
    "\n",
    "digit=model.fit(train_data, epochs=NUM_EPOCHS, validation_data=(validation_inputs, validation_targets), verbose=2,callbacks=[tensorboard_callback])"
   ]
  },
  {
   "cell_type": "code",
   "execution_count": 24,
   "metadata": {},
   "outputs": [
    {
     "name": "stdout",
     "output_type": "stream",
     "text": [
      "1/1 [==============================] - 0s 1ms/step - loss: 0.1167 - accuracy: 0.9809\n"
     ]
    }
   ],
   "source": [
    "test_loss, test_accuracy = model.evaluate(test_data)"
   ]
  },
  {
   "cell_type": "code",
   "execution_count": 25,
   "metadata": {},
   "outputs": [
    {
     "name": "stdout",
     "output_type": "stream",
     "text": [
      "1/1 [==============================] - 0s 2ms/step - loss: 0.0051 - accuracy: 0.9983\n"
     ]
    }
   ],
   "source": [
    "valid_loss, valid_accuracy = model.evaluate(validation_data)"
   ]
  },
  {
   "cell_type": "code",
   "execution_count": 26,
   "metadata": {},
   "outputs": [
    {
     "name": "stdout",
     "output_type": "stream",
     "text": [
      "Test loss: 0.12. Test accuracy: 98.09%\n"
     ]
    }
   ],
   "source": [
    "# We can apply some nice formatting if we want to\n",
    "print('Test loss: {0:.2f}. Test accuracy: {1:.2f}%'.format(test_loss, test_accuracy*100.))"
   ]
  },
  {
   "cell_type": "code",
   "execution_count": 27,
   "metadata": {},
   "outputs": [
    {
     "name": "stdout",
     "output_type": "stream",
     "text": [
      "dict_keys(['loss', 'accuracy', 'val_loss', 'val_accuracy'])\n"
     ]
    }
   ],
   "source": [
    "print(digit.history.keys())"
   ]
  },
  {
   "cell_type": "code",
   "execution_count": 28,
   "metadata": {},
   "outputs": [
    {
     "data": {
      "text/plain": [
       "[0.8999999761581421,\n",
       " 0.9618518352508545,\n",
       " 0.9743703603744507,\n",
       " 0.9809073805809021,\n",
       " 0.985962986946106,\n",
       " 0.9882407188415527,\n",
       " 0.990240752696991,\n",
       " 0.9913889169692993,\n",
       " 0.9935185313224792,\n",
       " 0.9947222471237183,\n",
       " 0.9952222108840942,\n",
       " 0.9955740571022034,\n",
       " 0.9944074153900146,\n",
       " 0.9958148002624512,\n",
       " 0.99529629945755,\n",
       " 0.9965000152587891,\n",
       " 0.9958518743515015,\n",
       " 0.9966481328010559,\n",
       " 0.9963889122009277,\n",
       " 0.9970555305480957,\n",
       " 0.9948333501815796,\n",
       " 0.9978703856468201,\n",
       " 0.9988703727722168,\n",
       " 0.9987407326698303,\n",
       " 0.9967963099479675,\n",
       " 0.9976666569709778,\n",
       " 0.9969815015792847,\n",
       " 0.9970370531082153,\n",
       " 0.9980740547180176,\n",
       " 0.9973888993263245,\n",
       " 0.9972962737083435,\n",
       " 0.9984444379806519,\n",
       " 0.9988148212432861,\n",
       " 0.9987221956253052,\n",
       " 0.996833324432373,\n",
       " 0.9978888630867004,\n",
       " 0.9976111054420471,\n",
       " 0.9990370273590088,\n",
       " 0.9992777705192566,\n",
       " 0.9992592334747314,\n",
       " 0.9985740780830383,\n",
       " 0.9969074130058289,\n",
       " 0.9982222318649292,\n",
       " 0.9988889098167419,\n",
       " 0.9994814991950989,\n",
       " 0.998629629611969,\n",
       " 0.9969074130058289,\n",
       " 0.9984259009361267,\n",
       " 0.9987778067588806,\n",
       " 0.9988148212432861]"
      ]
     },
     "execution_count": 28,
     "metadata": {},
     "output_type": "execute_result"
    }
   ],
   "source": [
    "digit.history['accuracy']"
   ]
  },
  {
   "cell_type": "code",
   "execution_count": 29,
   "metadata": {},
   "outputs": [],
   "source": [
    "from matplotlib import pyplot as plt"
   ]
  },
  {
   "cell_type": "code",
   "execution_count": 30,
   "metadata": {},
   "outputs": [
    {
     "data": {
      "text/plain": [
       "<matplotlib.legend.Legend at 0x24480fe55c8>"
      ]
     },
     "execution_count": 30,
     "metadata": {},
     "output_type": "execute_result"
    },
    {
     "data": {
      "image/png": "[encoded data removed]",
      "text/plain": [
       "<Figure size 432x288 with 1 Axes>"
      ]
     },
     "metadata": {
      "needs_background": "light"
     },
     "output_type": "display_data"
    }
   ],
   "source": [
    "plt.plot(digit.history['accuracy'],c='red',label='Training Accuracy')\n",
    "plt.plot(digit.history['val_accuracy'],c='blue',label='Validation Accuracy')\n",
    "plt.title('Training and Validation Accuracy')\n",
    "plt.legend(loc=0)\n"
   ]
  },
  {
   "cell_type": "code",
   "execution_count": 32,
   "metadata": {},
   "outputs": [
    {
     "data": {
      "text/plain": [
       "Reusing TensorBoard on port 6006 (pid 4884), started 0:01:49 ago. (Use '!kill 4884' to kill it.)"
      ]
     },
     "metadata": {},
     "output_type": "display_data"
    },
    {
     "data": {
      "text/html": [
       "\n",
       "      <iframe id=\"tensorboard-frame-b37cabc0c5975dfa\" width=\"100%\" height=\"800\" frameborder=\"0\">\n",
       "      </iframe>\n",
       "      <script>\n",
       "        (function() {\n",
       "          const frame = document.getElementById(\"tensorboard-frame-b37cabc0c5975dfa\");\n",
       "          const url = new URL(\"/\", window.location);\n",
       "          const port = 6006;\n",
       "          if (port) {\n",
       "            url.port = port;\n",
       "          }\n",
       "          frame.src = url;\n",
       "        })();\n",
       "      </script>\n",
       "    "
      ],
      "text/plain": [
       "<IPython.core.display.HTML object>"
      ]
     },
     "metadata": {},
     "output_type": "display_data"
    }
   ],
   "source": [
    "%tensorboard --logdir logs/fit"
   ]
  },
  {
   "cell_type": "code",
   "execution_count": null,
   "metadata": {},
   "outputs": [],
   "source": []
  }
 ],
 "metadata": {
  "kernelspec": {
   "display_name": "Python 3",
   "language": "python",
   "name": "python3"
  },
  "language_info": {
   "codemirror_mode": {
    "name": "ipython",
    "version": 3
   },
   "file_extension": ".py",
   "mimetype": "text/x-python",
   "name": "python",
   "nbconvert_exporter": "python",
   "pygments_lexer": "ipython3",
   "version": "3.7.9"
  }
 },
 "nbformat": 4,
 "nbformat_minor": 4
}
