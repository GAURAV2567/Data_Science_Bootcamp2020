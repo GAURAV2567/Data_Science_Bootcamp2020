{
 "cells": [
  {
   "cell_type": "markdown",
   "metadata": {},
   "source": [
    "# Importing relevent libraries"
   ]
  },
  {
   "cell_type": "code",
   "execution_count": 1,
   "metadata": {},
   "outputs": [],
   "source": [
    "import numpy as np\n",
    "import tensorflow as tf\n",
    "#We need the tensorflow-datasets module, therefore, if you haven't please install the package using\n",
    "# pip install tensorflow-datasets \n",
    "# or\n",
    "# conda install tensorflow-datasets\n",
    "\n",
    "import tensorflow_datasets as tfds"
   ]
  },
  {
   "cell_type": "markdown",
   "metadata": {},
   "source": [
    "# Data"
   ]
  },
  {
   "cell_type": "code",
   "execution_count": 2,
   "metadata": {},
   "outputs": [],
   "source": [
    "mnist_dataset, mnist_info=tfds.load(name='mnist',with_info=True,as_supervised=True)"
   ]
  },
  {
   "cell_type": "markdown",
   "metadata": {},
   "source": [
    "# Explore the data"
   ]
  },
  {
   "cell_type": "code",
   "execution_count": 3,
   "metadata": {},
   "outputs": [
    {
     "data": {
      "text/plain": [
       "{'test': <PrefetchDataset shapes: ((28, 28, 1), ()), types: (tf.uint8, tf.int64)>,\n",
       " 'train': <PrefetchDataset shapes: ((28, 28, 1), ()), types: (tf.uint8, tf.int64)>}"
      ]
     },
     "execution_count": 3,
     "metadata": {},
     "output_type": "execute_result"
    }
   ],
   "source": [
    "mnist_dataset"
   ]
  },
  {
   "cell_type": "markdown",
   "metadata": {},
   "source": [
    "# Split"
   ]
  },
  {
   "cell_type": "code",
   "execution_count": 4,
   "metadata": {},
   "outputs": [],
   "source": [
    "mnist_train,mnist_test=mnist_dataset['train'],mnist_dataset['test']"
   ]
  },
  {
   "cell_type": "code",
   "execution_count": 5,
   "metadata": {},
   "outputs": [],
   "source": [
    "#Further splitting to get Validation Set"
   ]
  },
  {
   "cell_type": "code",
   "execution_count": 6,
   "metadata": {},
   "outputs": [],
   "source": [
    "num_validation_samples=0.1*mnist_info.splits['train'].num_examples     #Using mnist_info to split training set\n",
    "num_validation_samples=tf.cast(num_validation_samples, tf.int64)      #tf.cast convert the variable into int64 data type"
   ]
  },
  {
   "cell_type": "code",
   "execution_count": 7,
   "metadata": {},
   "outputs": [],
   "source": [
    "num_test_samples=mnist_info.splits['test'].num_examples\n",
    "prev=num_test_samples\n",
    "num_test_samples=tf.cast(num_test_samples, tf.int64)          #convert from int to numpy int64"
   ]
  },
  {
   "cell_type": "raw",
   "metadata": {},
   "source": [
    "#Explanation"
   ]
  },
  {
   "cell_type": "code",
   "execution_count": 8,
   "metadata": {},
   "outputs": [
    {
     "data": {
      "text/plain": [
       "10000"
      ]
     },
     "execution_count": 8,
     "metadata": {},
     "output_type": "execute_result"
    }
   ],
   "source": [
    "prev"
   ]
  },
  {
   "cell_type": "code",
   "execution_count": 9,
   "metadata": {},
   "outputs": [
    {
     "data": {
      "text/plain": [
       "<tf.Tensor: shape=(), dtype=int64, numpy=10000>"
      ]
     },
     "execution_count": 9,
     "metadata": {},
     "output_type": "execute_result"
    }
   ],
   "source": [
    "num_test_samples"
   ]
  },
  {
   "cell_type": "markdown",
   "metadata": {},
   "source": [
    "# Preprocessing"
   ]
  },
  {
   "cell_type": "markdown",
   "metadata": {},
   "source": [
    "## Feature Scaling"
   ]
  },
  {
   "cell_type": "code",
   "execution_count": 10,
   "metadata": {},
   "outputs": [],
   "source": [
    "#we would like to scale\\transform\\resize the data in such a way that their input hace equal effect on weights(coefficients)\n",
    "# or we can say it is to make the result more numerically stable\n",
    "# in this case we will simply prefer to have inputs between 0 and 1\n",
    "def scale(image, label):\n",
    "    # we make sure the value is a float\n",
    "    image = tf.cast(image, tf.float32)\n",
    "    # since the possible values for the inputs are 0 to 255 (256 different shades of grey)\n",
    "    # if we divide each element by 255, we would get the desired result -> all elements will be between 0 and 1 \n",
    "    image /= 255.\n",
    "\n",
    "    return image, label\n"
   ]
  },
  {
   "cell_type": "code",
   "execution_count": 11,
   "metadata": {},
   "outputs": [],
   "source": [
    "scaled_train_and_validation_data=mnist_train.map(scale)  #dataset.map(function) applies custom transformation to a dataset. \n",
    "                                                         #Take function as a input which define transformation"
   ]
  },
  {
   "cell_type": "code",
   "execution_count": 12,
   "metadata": {},
   "outputs": [
    {
     "data": {
      "text/plain": [
       "<MapDataset shapes: ((28, 28, 1), ()), types: (tf.float32, tf.int64)>"
      ]
     },
     "execution_count": 12,
     "metadata": {},
     "output_type": "execute_result"
    }
   ],
   "source": [
    "scaled_train_and_validation_data"
   ]
  },
  {
   "cell_type": "code",
   "execution_count": 13,
   "metadata": {},
   "outputs": [],
   "source": [
    "#Scaling Test dataset so it has the same scale as train and validation data\n",
    "test_data=mnist_test.map(scale)"
   ]
  },
  {
   "cell_type": "code",
   "execution_count": 14,
   "metadata": {},
   "outputs": [
    {
     "data": {
      "text/plain": [
       "<MapDataset shapes: ((28, 28, 1), ()), types: (tf.float32, tf.int64)>"
      ]
     },
     "execution_count": 14,
     "metadata": {},
     "output_type": "execute_result"
    }
   ],
   "source": [
    "test_data"
   ]
  },
  {
   "cell_type": "markdown",
   "metadata": {},
   "source": [
    "## Shuffle and Batch"
   ]
  },
  {
   "cell_type": "code",
   "execution_count": 15,
   "metadata": {},
   "outputs": [],
   "source": [
    "#SHUFFLE\n",
    "# this BUFFER_SIZE parameter is here for cases when we're dealing with enormous datasets\n",
    "# then we can't shuffle the whole dataset in one go because we can't fit it all in memory\n",
    "# so instead TF only stores BUFFER_SIZE samples in memory at a time and shuffles them\n",
    "# if BUFFER_SIZE=1 => no shuffling will actually happen\n",
    "# if BUFFER_SIZE >= num samples => shuffling is uniform\n",
    "# BUFFER_SIZE in between - a computational optimization to approximate uniform shuffling\n",
    "\n",
    "BUFFER_SIZE = 10000\n",
    "\n",
    "shuffled_train_and_validation_data = scaled_train_and_validation_data.shuffle(BUFFER_SIZE)\n",
    "\n",
    "validation_data = shuffled_train_and_validation_data.take(num_validation_samples) #.take() method will take that same number \n",
    "                                                                                  #of samples as in num_validation_samples\n",
    "train_data=shuffled_train_and_validation_data.skip(num_validation_samples)    #Skip the no. of samples in \n",
    "                                                                              #num_validation_samples"
   ]
  },
  {
   "cell_type": "code",
   "execution_count": 16,
   "metadata": {},
   "outputs": [],
   "source": [
    "#Batch\n",
    "BATCH_SIZE = 100                          #one batch include 100/60000 observations\n",
    "\n",
    "train_data = train_data.batch(BATCH_SIZE)\n",
    "\n",
    "validation_data = validation_data.batch(num_validation_samples)  #No Batching done for validation set\n",
    "\n",
    "test_data = test_data.batch(num_test_samples)                    #No batching for test set also\n",
    "\n",
    "\n",
    "#To make the validation_data to have same format and feature as train and test data\n",
    "# because as_supervized=True, we've got a 2-tuple structure\n",
    "validation_inputs, validation_targets = next(iter(validation_data))"
   ]
  },
  {
   "cell_type": "markdown",
   "metadata": {},
   "source": [
    "# MODEL"
   ]
  },
  {
   "cell_type": "markdown",
   "metadata": {},
   "source": [
    "## Outline the Model"
   ]
  },
  {
   "cell_type": "code",
   "execution_count": 17,
   "metadata": {},
   "outputs": [],
   "source": [
    "input_size=784\n",
    "output_size=10\n",
    "hidden_layer_size=200      #U can choose the hidden layer of different sizes\n",
    "model = tf.keras.Sequential([    #Sequetial used to stack layers\n",
    "                                 #Flatten used to convert tensor into vector   \n",
    "            tf.keras.layers.Flatten(input_shape=(28, 28, 1)),\n",
    "                             \n",
    "                             #Dense used to build each layer \n",
    "                             #It calculates dot product and here we apply activation function                             \n",
    "            tf.keras.layers.Dense(hidden_layer_size,activation='relu'),  #Layer 1\n",
    "            tf.keras.layers.Dense(hidden_layer_size,activation='relu'),  #Layer 2\n",
    "            tf.keras.layers.Dense(hidden_layer_size,activation='relu'),  #Layer 3\n",
    "    \n",
    "    \n",
    "            tf.keras.layers.Dense(output_size,activation='softmax')  #Output layer with probabilities(softmax)\n",
    "])"
   ]
  },
  {
   "cell_type": "markdown",
   "metadata": {},
   "source": [
    "# Objective Function"
   ]
  },
  {
   "cell_type": "markdown",
   "metadata": {},
   "source": [
    "## Choose the Optimizer and the Loss Function"
   ]
  },
  {
   "cell_type": "code",
   "execution_count": 18,
   "metadata": {},
   "outputs": [],
   "source": [
    "#custom_optimizer = tf.keras.optimizers.Adam(learning_rate=0.0001)\n",
    "\n",
    "model.compile(optimizer='adam', loss='sparse_categorical_crossentropy', metrics=['accuracy'])"
   ]
  },
  {
   "cell_type": "markdown",
   "metadata": {},
   "source": [
    "## Training"
   ]
  },
  {
   "cell_type": "code",
   "execution_count": 19,
   "metadata": {},
   "outputs": [
    {
     "name": "stdout",
     "output_type": "stream",
     "text": [
      "Epoch 1/50\n",
      "540/540 - 3s - loss: 0.2694 - accuracy: 0.9199 - val_loss: 0.1284 - val_accuracy: 0.9605\n",
      "Epoch 2/50\n",
      "540/540 - 2s - loss: 0.0995 - accuracy: 0.9691 - val_loss: 0.0966 - val_accuracy: 0.9688\n",
      "Epoch 3/50\n",
      "540/540 - 2s - loss: 0.0670 - accuracy: 0.9785 - val_loss: 0.0815 - val_accuracy: 0.9752\n",
      "Epoch 4/50\n",
      "540/540 - 2s - loss: 0.0508 - accuracy: 0.9835 - val_loss: 0.0561 - val_accuracy: 0.9822\n",
      "Epoch 5/50\n",
      "540/540 - 2s - loss: 0.0441 - accuracy: 0.9859 - val_loss: 0.0436 - val_accuracy: 0.9860\n",
      "Epoch 6/50\n",
      "540/540 - 2s - loss: 0.0342 - accuracy: 0.9895 - val_loss: 0.0404 - val_accuracy: 0.9858\n",
      "Epoch 7/50\n",
      "540/540 - 2s - loss: 0.0288 - accuracy: 0.9902 - val_loss: 0.0336 - val_accuracy: 0.9887\n",
      "Epoch 8/50\n",
      "540/540 - 3s - loss: 0.0249 - accuracy: 0.9921 - val_loss: 0.0433 - val_accuracy: 0.9862\n",
      "Epoch 9/50\n",
      "540/540 - 3s - loss: 0.0210 - accuracy: 0.9928 - val_loss: 0.0313 - val_accuracy: 0.9895\n",
      "Epoch 10/50\n",
      "540/540 - 2s - loss: 0.0201 - accuracy: 0.9938 - val_loss: 0.0316 - val_accuracy: 0.9907\n",
      "Epoch 11/50\n",
      "540/540 - 2s - loss: 0.0183 - accuracy: 0.9941 - val_loss: 0.0306 - val_accuracy: 0.9910\n",
      "Epoch 12/50\n",
      "540/540 - 2s - loss: 0.0189 - accuracy: 0.9939 - val_loss: 0.0352 - val_accuracy: 0.9895\n",
      "Epoch 13/50\n",
      "540/540 - 2s - loss: 0.0172 - accuracy: 0.9941 - val_loss: 0.0246 - val_accuracy: 0.9905\n",
      "Epoch 14/50\n",
      "540/540 - 2s - loss: 0.0132 - accuracy: 0.9958 - val_loss: 0.0141 - val_accuracy: 0.9955\n",
      "Epoch 15/50\n",
      "540/540 - 2s - loss: 0.0136 - accuracy: 0.9956 - val_loss: 0.0268 - val_accuracy: 0.9910\n",
      "Epoch 16/50\n",
      "540/540 - 2s - loss: 0.0131 - accuracy: 0.9955 - val_loss: 0.0175 - val_accuracy: 0.9948\n",
      "Epoch 17/50\n",
      "540/540 - 2s - loss: 0.0126 - accuracy: 0.9960 - val_loss: 0.0095 - val_accuracy: 0.9967\n",
      "Epoch 18/50\n",
      "540/540 - 2s - loss: 0.0128 - accuracy: 0.9958 - val_loss: 0.0143 - val_accuracy: 0.9952\n",
      "Epoch 19/50\n",
      "540/540 - 2s - loss: 0.0069 - accuracy: 0.9979 - val_loss: 0.0137 - val_accuracy: 0.9955\n",
      "Epoch 20/50\n",
      "540/540 - 2s - loss: 0.0139 - accuracy: 0.9955 - val_loss: 0.0193 - val_accuracy: 0.9947\n",
      "Epoch 21/50\n",
      "540/540 - 2s - loss: 0.0113 - accuracy: 0.9964 - val_loss: 0.0162 - val_accuracy: 0.9947\n",
      "Epoch 22/50\n",
      "540/540 - 2s - loss: 0.0097 - accuracy: 0.9966 - val_loss: 0.0075 - val_accuracy: 0.9975\n",
      "Epoch 23/50\n",
      "540/540 - 2s - loss: 0.0069 - accuracy: 0.9977 - val_loss: 0.0130 - val_accuracy: 0.9958\n",
      "Epoch 24/50\n",
      "540/540 - 4s - loss: 0.0105 - accuracy: 0.9965 - val_loss: 0.0191 - val_accuracy: 0.9947\n",
      "Epoch 25/50\n",
      "540/540 - 2s - loss: 0.0109 - accuracy: 0.9965 - val_loss: 0.0094 - val_accuracy: 0.9972\n",
      "Epoch 26/50\n",
      "540/540 - 3s - loss: 0.0054 - accuracy: 0.9984 - val_loss: 0.0070 - val_accuracy: 0.9972\n",
      "Epoch 27/50\n",
      "540/540 - 2s - loss: 0.0061 - accuracy: 0.9983 - val_loss: 0.0030 - val_accuracy: 0.9990\n",
      "Epoch 28/50\n",
      "540/540 - 2s - loss: 0.0108 - accuracy: 0.9968 - val_loss: 0.0111 - val_accuracy: 0.9973\n",
      "Epoch 29/50\n",
      "540/540 - 2s - loss: 0.0076 - accuracy: 0.9979 - val_loss: 0.0042 - val_accuracy: 0.9985\n",
      "Epoch 30/50\n",
      "540/540 - 2s - loss: 0.0105 - accuracy: 0.9973 - val_loss: 0.0093 - val_accuracy: 0.9967\n",
      "Epoch 31/50\n",
      "540/540 - 2s - loss: 0.0050 - accuracy: 0.9984 - val_loss: 0.0020 - val_accuracy: 0.9992\n",
      "Epoch 32/50\n",
      "540/540 - 2s - loss: 0.0046 - accuracy: 0.9987 - val_loss: 0.0032 - val_accuracy: 0.9992\n",
      "Epoch 33/50\n",
      "540/540 - 2s - loss: 0.0101 - accuracy: 0.9972 - val_loss: 0.0063 - val_accuracy: 0.9972\n",
      "Epoch 34/50\n",
      "540/540 - 2s - loss: 0.0029 - accuracy: 0.9991 - val_loss: 0.0014 - val_accuracy: 0.9997\n",
      "Epoch 35/50\n",
      "540/540 - 2s - loss: 0.0065 - accuracy: 0.9978 - val_loss: 0.0160 - val_accuracy: 0.9957\n",
      "Epoch 36/50\n",
      "540/540 - 2s - loss: 0.0112 - accuracy: 0.9968 - val_loss: 0.0066 - val_accuracy: 0.9978\n",
      "Epoch 37/50\n",
      "540/540 - 2s - loss: 0.0038 - accuracy: 0.9988 - val_loss: 0.0039 - val_accuracy: 0.9987\n",
      "Epoch 38/50\n",
      "540/540 - 2s - loss: 0.0036 - accuracy: 0.9986 - val_loss: 0.0054 - val_accuracy: 0.9985\n",
      "Epoch 39/50\n",
      "540/540 - 2s - loss: 0.0093 - accuracy: 0.9974 - val_loss: 0.0106 - val_accuracy: 0.9967\n",
      "Epoch 40/50\n",
      "540/540 - 2s - loss: 0.0030 - accuracy: 0.9992 - val_loss: 8.8437e-04 - val_accuracy: 1.0000\n",
      "Epoch 41/50\n",
      "540/540 - 3s - loss: 0.0058 - accuracy: 0.9984 - val_loss: 0.0081 - val_accuracy: 0.9968\n",
      "Epoch 42/50\n",
      "540/540 - 3s - loss: 0.0072 - accuracy: 0.9980 - val_loss: 0.0087 - val_accuracy: 0.9975\n",
      "Epoch 43/50\n",
      "540/540 - 2s - loss: 0.0061 - accuracy: 0.9981 - val_loss: 0.0074 - val_accuracy: 0.9972\n",
      "Epoch 44/50\n",
      "540/540 - 2s - loss: 0.0086 - accuracy: 0.9977 - val_loss: 0.0110 - val_accuracy: 0.9968\n",
      "Epoch 45/50\n",
      "540/540 - 3s - loss: 0.0043 - accuracy: 0.9986 - val_loss: 0.0037 - val_accuracy: 0.9990\n",
      "Epoch 46/50\n",
      "540/540 - 3s - loss: 0.0087 - accuracy: 0.9976 - val_loss: 0.0038 - val_accuracy: 0.9988\n",
      "Epoch 47/50\n",
      "540/540 - 2s - loss: 0.0053 - accuracy: 0.9983 - val_loss: 0.0045 - val_accuracy: 0.9987\n",
      "Epoch 48/50\n",
      "540/540 - 2s - loss: 0.0028 - accuracy: 0.9992 - val_loss: 0.0015 - val_accuracy: 0.9995\n",
      "Epoch 49/50\n",
      "540/540 - 2s - loss: 0.0054 - accuracy: 0.9986 - val_loss: 0.0022 - val_accuracy: 0.9990\n",
      "Epoch 50/50\n",
      "540/540 - 2s - loss: 0.0054 - accuracy: 0.9982 - val_loss: 0.0034 - val_accuracy: 0.9990\n"
     ]
    },
    {
     "data": {
      "text/plain": [
       "<tensorflow.python.keras.callbacks.History at 0x1df9a7ec9d0>"
      ]
     },
     "execution_count": 19,
     "metadata": {},
     "output_type": "execute_result"
    }
   ],
   "source": [
    "NUM_EPOCHS = 50\n",
    "\n",
    "model.fit(train_data, epochs=NUM_EPOCHS, validation_data=(validation_inputs, validation_targets), verbose=2)"
   ]
  },
  {
   "cell_type": "code",
   "execution_count": 20,
   "metadata": {},
   "outputs": [
    {
     "name": "stdout",
     "output_type": "stream",
     "text": [
      "1/1 [==============================] - 0s 2ms/step - loss: 0.1144 - accuracy: 0.9830\n"
     ]
    }
   ],
   "source": [
    "test_loss, test_accuracy = model.evaluate(test_data)"
   ]
  },
  {
   "cell_type": "code",
   "execution_count": 21,
   "metadata": {},
   "outputs": [
    {
     "name": "stdout",
     "output_type": "stream",
     "text": [
      "Test loss: 0.11. Test accuracy: 98.30%\n"
     ]
    }
   ],
   "source": [
    "# We can apply some nice formatting if we want to\n",
    "print('Test loss: {0:.2f}. Test accuracy: {1:.2f}%'.format(test_loss, test_accuracy*100.))"
   ]
  },
  {
   "cell_type": "code",
   "execution_count": null,
   "metadata": {},
   "outputs": [],
   "source": []
  }
 ],
 "metadata": {
  "kernelspec": {
   "display_name": "Python 3",
   "language": "python",
   "name": "python3"
  },
  "language_info": {
   "codemirror_mode": {
    "name": "ipython",
    "version": 3
   },
   "file_extension": ".py",
   "mimetype": "text/x-python",
   "name": "python",
   "nbconvert_exporter": "python",
   "pygments_lexer": "ipython3",
   "version": "3.8.3"
  }
 },
 "nbformat": 4,
 "nbformat_minor": 4
}
